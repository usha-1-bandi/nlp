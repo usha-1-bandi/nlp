{
  "nbformat": 4,
  "nbformat_minor": 0,
  "metadata": {
    "colab": {
      "provenance": [],
      "authorship_tag": "ABX9TyPHauGyrLUq2WnOvWUIJrBW",
      "include_colab_link": true
    },
    "kernelspec": {
      "name": "python3",
      "display_name": "Python 3"
    },
    "language_info": {
      "name": "python"
    }
  },
  "cells": [
    {
      "cell_type": "markdown",
      "metadata": {
        "id": "view-in-github",
        "colab_type": "text"
      },
      "source": [
        "<a href=\"https://colab.research.google.com/github/usha-1-bandi/nlp/blob/main/ass4.ipynb\" target=\"_parent\"><img src=\"https://colab.research.google.com/assets/colab-badge.svg\" alt=\"Open In Colab\"/></a>"
      ]
    },
    {
      "cell_type": "code",
      "execution_count": 1,
      "metadata": {
        "colab": {
          "base_uri": "https://localhost:8080/"
        },
        "id": "Uk0fMaqQejsh",
        "outputId": "f4183220-49cb-4fd8-fc03-514b251f80a2"
      },
      "outputs": [
        {
          "output_type": "stream",
          "name": "stdout",
          "text": [
            "Enter a positive integer n: 7\n",
            "The sum of all even numbers between 1 and 7 is: 12\n"
          ]
        }
      ],
      "source": [
        "# Taking input from the user\n",
        "n = int(input(\"Enter a positive integer n: \"))\n",
        "\n",
        "# Initialize the sum to 0\n",
        "sum_of_evens = 0\n",
        "\n",
        "# Loop through numbers from 1 to n\n",
        "for i in range(2, n + 1, 2):  # Start from 2 and step by 2 (even numbers)\n",
        "    sum_of_evens += i\n",
        "\n",
        "# Print the sum of all even numbers\n",
        "print(f\"The sum of all even numbers between 1 and {n} is: {sum_of_evens}\")\n"
      ]
    }
  ]
}