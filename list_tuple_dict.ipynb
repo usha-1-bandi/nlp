{
  "nbformat": 4,
  "nbformat_minor": 0,
  "metadata": {
    "colab": {
      "provenance": [],
      "authorship_tag": "ABX9TyNUg8TsmlAgo8u6PMdxXx4i",
      "include_colab_link": true
    },
    "kernelspec": {
      "name": "python3",
      "display_name": "Python 3"
    },
    "language_info": {
      "name": "python"
    }
  },
  "cells": [
    {
      "cell_type": "markdown",
      "metadata": {
        "id": "view-in-github",
        "colab_type": "text"
      },
      "source": [
        "<a href=\"https://colab.research.google.com/github/usha-1-bandi/nlp/blob/main/list_tuple_dict.ipynb\" target=\"_parent\"><img src=\"https://colab.research.google.com/assets/colab-badge.svg\" alt=\"Open In Colab\"/></a>"
      ]
    },
    {
      "cell_type": "code",
      "execution_count": 1,
      "metadata": {
        "colab": {
          "base_uri": "https://localhost:8080/"
        },
        "id": "ii8cncb1cw2a",
        "outputId": "c38baccc-581e-4c99-e959-fe5855ab6dd7"
      },
      "outputs": [
        {
          "output_type": "stream",
          "name": "stdout",
          "text": [
            "First Element: 10\n",
            "Third Element: 30\n",
            "Last Element: 50\n"
          ]
        }
      ],
      "source": [
        "# Creating a list\n",
        "my_list = [10, 20, 30, 40, 50]\n",
        "\n",
        "# Accessing elements using index\n",
        "first_element = my_list[0]   # Accessing the first element\n",
        "third_element = my_list[2]   # Accessing the third element\n",
        "last_element = my_list[-1]   # Accessing the last element\n",
        "\n",
        "print(f\"First Element: {first_element}\")\n",
        "print(f\"Third Element: {third_element}\")\n",
        "print(f\"Last Element: {last_element}\")\n"
      ]
    },
    {
      "cell_type": "code",
      "source": [
        "# Creating a tuple\n",
        "my_tuple = ('apple', 'banana', 'cherry', 'date', 'elderberry')\n",
        "\n",
        "# Accessing elements using index\n",
        "second_element = my_tuple[1]  # Accessing the second element\n",
        "fourth_element = my_tuple[3] # Accessing the fourth element\n",
        "last_element = my_tuple[-1]  # Accessing the last element\n",
        "\n",
        "print(f\"Second Element: {second_element}\")\n",
        "print(f\"Fourth Element: {fourth_element}\")\n",
        "print(f\"Last Element: {last_element}\")\n"
      ],
      "metadata": {
        "colab": {
          "base_uri": "https://localhost:8080/"
        },
        "id": "g1rd9TZ9cyVv",
        "outputId": "23711a32-5ee7-4026-ab45-5f5827debe35"
      },
      "execution_count": 2,
      "outputs": [
        {
          "output_type": "stream",
          "name": "stdout",
          "text": [
            "Second Element: banana\n",
            "Fourth Element: date\n",
            "Last Element: elderberry\n"
          ]
        }
      ]
    },
    {
      "cell_type": "code",
      "source": [
        "# Creating a dictionary\n",
        "my_dict = {\n",
        "    'name': 'Alice',\n",
        "    'age': 25,\n",
        "    'city': 'New York',\n",
        "    'job': 'Engineer',\n",
        "    'hobby': 'Painting'\n",
        "}\n",
        "\n",
        "# Accessing elements using keys\n",
        "name_value = my_dict['name']  # Accessing the value for 'name' key\n",
        "age_value = my_dict['age']    # Accessing the value for 'age' key\n",
        "hobby_value = my_dict['hobby']  # Accessing the value for 'hobby' key\n",
        "\n",
        "print(f\"Name: {name_value}\")\n",
        "print(f\"Age: {age_value}\")\n",
        "print(f\"Hobby: {hobby_value}\")\n"
      ],
      "metadata": {
        "colab": {
          "base_uri": "https://localhost:8080/"
        },
        "id": "2viSW8y1c_CG",
        "outputId": "07e7587c-adc1-4916-d0b2-65c45cf7115d"
      },
      "execution_count": 3,
      "outputs": [
        {
          "output_type": "stream",
          "name": "stdout",
          "text": [
            "Name: Alice\n",
            "Age: 25\n",
            "Hobby: Painting\n"
          ]
        }
      ]
    }
  ]
}