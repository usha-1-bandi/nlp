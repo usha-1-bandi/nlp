{
  "nbformat": 4,
  "nbformat_minor": 0,
  "metadata": {
    "colab": {
      "provenance": [],
      "authorship_tag": "ABX9TyP7sInYu1lJpdWtbDEPg9XW",
      "include_colab_link": true
    },
    "kernelspec": {
      "name": "python3",
      "display_name": "Python 3"
    },
    "language_info": {
      "name": "python"
    }
  },
  "cells": [
    {
      "cell_type": "markdown",
      "metadata": {
        "id": "view-in-github",
        "colab_type": "text"
      },
      "source": [
        "<a href=\"https://colab.research.google.com/github/usha-1-bandi/nlp/blob/main/chatbot.ipynb\" target=\"_parent\"><img src=\"https://colab.research.google.com/assets/colab-badge.svg\" alt=\"Open In Colab\"/></a>"
      ]
    },
    {
      "cell_type": "code",
      "execution_count": 5,
      "metadata": {
        "colab": {
          "base_uri": "https://localhost:8080/"
        },
        "id": "hLNgLHRF72KE",
        "outputId": "bfaefc83-2f3b-4b46-ae30-0b03a39e9295"
      },
      "outputs": [
        {
          "name": "stdout",
          "output_type": "stream",
          "text": [
            "chatbot:hello! type 'bye' to exit\n",
            "you: time\n",
            "chatbot: the current time is 07:17\n",
            "you: bye\n"
          ]
        }
      ],
      "source": [
        "\n",
        "def chatot_resonse(user_input):\n",
        "  user_input=user_input.lower()\n",
        "  if \"hello\" in user_input or \"hi\" in user_input:\n",
        "    return \"hello! how can i help you today?\"\n",
        "  elif \"how are you\" in user_input:\n",
        "    return \"I am a chatbot,but i am fine,how about you\"\n",
        "  elif \"name\" in user_input:\n",
        "    return \"i am a simple chatbot\"\n",
        "  elif \"time\" in user_input:\n",
        "    import datetime\n",
        "    now=datetime.datetime.now()\n",
        "    return f\"the current time is {now.strftime('%H:%M')}\"\n",
        "  elif \"help\" in user_input:\n",
        "    return \"how can i help you\"\n",
        "  else:\n",
        "    return \"i am sorry,i dont understand\"\n",
        "def run_chatbot():\n",
        "  print(\"chatbot:hello! type 'bye' to exit\")\n",
        "  while True:\n",
        "    user_input=input(\"you: \")\n",
        "    if user_input.lower() == \"bye\":\n",
        "      break\n",
        "    response = chatot_resonse(user_input)\n",
        "    print(\"chatbot:\",response)\n",
        "run_chatbot()"
      ]
    },
    {
      "cell_type": "code",
      "source": [],
      "metadata": {
        "id": "g5IuanPq8E5B"
      },
      "execution_count": null,
      "outputs": []
    }
  ]
}