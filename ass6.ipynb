{
  "nbformat": 4,
  "nbformat_minor": 0,
  "metadata": {
    "colab": {
      "provenance": [],
      "authorship_tag": "ABX9TyO3ZCGH50yAhv55Rg9KsJZb",
      "include_colab_link": true
    },
    "kernelspec": {
      "name": "python3",
      "display_name": "Python 3"
    },
    "language_info": {
      "name": "python"
    }
  },
  "cells": [
    {
      "cell_type": "markdown",
      "metadata": {
        "id": "view-in-github",
        "colab_type": "text"
      },
      "source": [
        "<a href=\"https://colab.research.google.com/github/usha-1-bandi/nlp/blob/main/ass6.ipynb\" target=\"_parent\"><img src=\"https://colab.research.google.com/assets/colab-badge.svg\" alt=\"Open In Colab\"/></a>"
      ]
    },
    {
      "cell_type": "code",
      "execution_count": 1,
      "metadata": {
        "colab": {
          "base_uri": "https://localhost:8080/"
        },
        "id": "WOqjyeaRgFsy",
        "outputId": "98e713f1-e23c-4379-975b-12ed56a7cf91"
      },
      "outputs": [
        {
          "output_type": "stream",
          "name": "stderr",
          "text": [
            "[nltk_data] Downloading package stopwords to /root/nltk_data...\n",
            "[nltk_data]   Unzipping corpora/stopwords.zip.\n"
          ]
        },
        {
          "output_type": "stream",
          "name": "stdout",
          "text": [
            "Original Text:  This is a sample text. We are going to remove stopwords from this text using NLTK and spaCy!\n",
            "\n",
            "Text after NLTK Stopwords Removal:  sample text. going remove stopwords text using nltk spacy!\n",
            "\n",
            "Text after spaCy Stopwords Removal:  sample text . going remove stopwords text nltk spacy !\n"
          ]
        }
      ],
      "source": [
        "# Importing required libraries\n",
        "import nltk\n",
        "import spacy\n",
        "from nltk.corpus import stopwords\n",
        "\n",
        "# Downloading stopwords using NLTK\n",
        "nltk.download('stopwords')\n",
        "\n",
        "# Load spaCy's English language model\n",
        "nlp = spacy.load('en_core_web_sm')\n",
        "\n",
        "# Sample text\n",
        "text = \"This is a sample text. We are going to remove stopwords from this text using NLTK and spaCy!\"\n",
        "\n",
        "# Convert text to lowercase\n",
        "text_lower = text.lower()\n",
        "\n",
        "# Remove stopwords using NLTK\n",
        "nltk_stopwords = set(stopwords.words('english'))\n",
        "nltk_words = text_lower.split()  # Split text into words\n",
        "nltk_filtered_words = [word for word in nltk_words if word not in nltk_stopwords]\n",
        "\n",
        "# Using spaCy for stopword removal\n",
        "doc = nlp(text_lower)\n",
        "spacy_filtered_words = [token.text for token in doc if not token.is_stop]\n",
        "\n",
        "# Printing results\n",
        "print(\"Original Text: \", text)\n",
        "print(\"\\nText after NLTK Stopwords Removal: \", ' '.join(nltk_filtered_words))\n",
        "print(\"\\nText after spaCy Stopwords Removal: \", ' '.join(spacy_filtered_words))\n"
      ]
    }
  ]
}