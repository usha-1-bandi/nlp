{
  "nbformat": 4,
  "nbformat_minor": 0,
  "metadata": {
    "colab": {
      "provenance": [],
      "authorship_tag": "ABX9TyOyi0JBYiRuRRlJcJceBdbJ",
      "include_colab_link": true
    },
    "kernelspec": {
      "name": "python3",
      "display_name": "Python 3"
    },
    "language_info": {
      "name": "python"
    }
  },
  "cells": [
    {
      "cell_type": "markdown",
      "metadata": {
        "id": "view-in-github",
        "colab_type": "text"
      },
      "source": [
        "<a href=\"https://colab.research.google.com/github/usha-1-bandi/nlp/blob/main/ass5.ipynb\" target=\"_parent\"><img src=\"https://colab.research.google.com/assets/colab-badge.svg\" alt=\"Open In Colab\"/></a>"
      ]
    },
    {
      "cell_type": "code",
      "execution_count": 1,
      "metadata": {
        "colab": {
          "base_uri": "https://localhost:8080/"
        },
        "id": "VRLRNPTefaci",
        "outputId": "76b8a44c-f848-4a25-81aa-499a4559167e"
      },
      "outputs": [
        {
          "output_type": "stream",
          "name": "stdout",
          "text": [
            "Enter a text: lovely\n",
            "Word Frequencies:\n",
            "'lovely': 1\n"
          ]
        }
      ],
      "source": [
        "# Taking input for the text\n",
        "text = input(\"Enter a text: \")\n",
        "\n",
        "# Converting the text to lowercase to make the count case-insensitive\n",
        "text = text.lower()\n",
        "\n",
        "# Splitting the text into words\n",
        "words = text.split()\n",
        "\n",
        "# Creating a dictionary to store word frequencies\n",
        "word_frequency = {}\n",
        "\n",
        "# Counting the frequency of each word\n",
        "for word in words:\n",
        "    if word in word_frequency:\n",
        "        word_frequency[word] += 1\n",
        "    else:\n",
        "        word_frequency[word] = 1\n",
        "\n",
        "# Printing the words and their frequencies\n",
        "print(\"Word Frequencies:\")\n",
        "for word, count in word_frequency.items():\n",
        "    print(f\"'{word}': {count}\")\n"
      ]
    }
  ]
}