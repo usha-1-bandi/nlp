{
  "nbformat": 4,
  "nbformat_minor": 0,
  "metadata": {
    "colab": {
      "provenance": [],
      "authorship_tag": "ABX9TyOqQOJfUEkDDawfRm3eN1A0",
      "include_colab_link": true
    },
    "kernelspec": {
      "name": "python3",
      "display_name": "Python 3"
    },
    "language_info": {
      "name": "python"
    }
  },
  "cells": [
    {
      "cell_type": "markdown",
      "metadata": {
        "id": "view-in-github",
        "colab_type": "text"
      },
      "source": [
        "<a href=\"https://colab.research.google.com/github/usha-1-bandi/nlp/blob/main/ass18.ipynb\" target=\"_parent\"><img src=\"https://colab.research.google.com/assets/colab-badge.svg\" alt=\"Open In Colab\"/></a>"
      ]
    },
    {
      "cell_type": "code",
      "source": [
        "import requests\n",
        "from bs4 import BeautifulSoup\n",
        "\n",
        "def fetch_title(url):\n",
        "    # Send an HTTP GET request to the webpage\n",
        "    response = requests.get(url)\n",
        "\n",
        "    # Check if the request was successful\n",
        "    if response.status_code == 200:\n",
        "        # Parse the HTML content of the page\n",
        "        soup = BeautifulSoup(response.content, 'html.parser')\n",
        "\n",
        "        # Find and return the title of the page\n",
        "        title = soup.title.string if soup.title else 'No title found'\n",
        "        return title\n",
        "    else:\n",
        "        return f\"Failed to retrieve the page. Status code: {response.status_code}\"\n",
        "\n",
        "# Test the function with the given URL\n",
        "url = 'https://example.com'\n",
        "page_title = fetch_title(url)\n",
        "\n",
        "print(\"Page Title:\")\n",
        "print(page_title)\n"
      ],
      "metadata": {
        "colab": {
          "base_uri": "https://localhost:8080/"
        },
        "id": "VCgSnm-t0R5W",
        "outputId": "3b30398b-a3a2-4ed1-d9af-bee30c0d5fe7"
      },
      "execution_count": 12,
      "outputs": [
        {
          "output_type": "stream",
          "name": "stdout",
          "text": [
            "Page Title:\n",
            "Example Domain\n"
          ]
        }
      ]
    }
  ]
}