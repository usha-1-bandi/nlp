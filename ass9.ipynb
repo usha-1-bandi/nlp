{
  "nbformat": 4,
  "nbformat_minor": 0,
  "metadata": {
    "colab": {
      "provenance": [],
      "authorship_tag": "ABX9TyMZnmx5kyCwWONjfk4NffL6",
      "include_colab_link": true
    },
    "kernelspec": {
      "name": "python3",
      "display_name": "Python 3"
    },
    "language_info": {
      "name": "python"
    }
  },
  "cells": [
    {
      "cell_type": "markdown",
      "metadata": {
        "id": "view-in-github",
        "colab_type": "text"
      },
      "source": [
        "<a href=\"https://colab.research.google.com/github/usha-1-bandi/nlp/blob/main/ass9.ipynb\" target=\"_parent\"><img src=\"https://colab.research.google.com/assets/colab-badge.svg\" alt=\"Open In Colab\"/></a>"
      ]
    },
    {
      "cell_type": "code",
      "execution_count": 3,
      "metadata": {
        "colab": {
          "base_uri": "https://localhost:8080/"
        },
        "id": "uTpOzYunvJOo",
        "outputId": "7145ba3e-c208-4b70-dbbe-92887fc04790"
      },
      "outputs": [
        {
          "output_type": "stream",
          "name": "stdout",
          "text": [
            "Sentences:\n",
            "1: Natural Language Processing (NLP) is a fascinating field of Artificial Intelligence.\n",
            "2: It focuses on the interaction between humans and computers using natural language.\n",
            "3: Tokenization is one of the fundamental steps in NLP, where text is broken down into sentences or words.\n",
            "\n",
            "\n",
            "Words:\n",
            "['Natural', 'Language', 'Processing', '(', 'NLP', ')', 'is', 'a', 'fascinating', 'field', 'of', 'Artificial', 'Intelligence', '.', 'It', 'focuses', 'on', 'the', 'interaction', 'between', 'humans', 'and', 'computers', 'using', 'natural', 'language', '.', 'Tokenization', 'is', 'one', 'of', 'the', 'fundamental', 'steps', 'in', 'NLP', ',', 'where', 'text', 'is', 'broken', 'down', 'into', 'sentences', 'or', 'words', '.']\n",
            "\n",
            "\n",
            "Cleaned Text:\n",
            "hello world welcome to nlp 101\n"
          ]
        },
        {
          "output_type": "stream",
          "name": "stderr",
          "text": [
            "[nltk_data] Downloading package punkt_tab to /root/nltk_data...\n",
            "[nltk_data]   Unzipping tokenizers/punkt_tab.zip.\n"
          ]
        }
      ],
      "source": [
        "import nltk\n",
        "from nltk.tokenize import word_tokenize, sent_tokenize\n",
        "import re\n",
        "\n",
        "# Download the 'punkt_tab' data package\n",
        "nltk.download('punkt_tab') # This line is added to download the required data package.\n",
        "\n",
        "\n",
        "sample_paragraph = (\n",
        "    \"Natural Language Processing (NLP) is a fascinating field of Artificial Intelligence. \"\n",
        "    \"It focuses on the interaction between humans and computers using natural language. \"\n",
        "    \"Tokenization is one of the fundamental steps in NLP, where text is broken down into sentences or words.\"\n",
        ")\n",
        "\n",
        "def tokenize_sentences(paragraph):\n",
        "    return sent_tokenize(paragraph)\n",
        "\n",
        "def tokenize_words(paragraph):\n",
        "    return word_tokenize(paragraph)\n",
        "\n",
        "def clean_text(text):\n",
        "    \"\"\"Remove special characters and convert text to lowercase.\"\"\"\n",
        "    text = text.lower()\n",
        "    text = re.sub(r'[^a-zA-Z0-9\\s]', '', text)\n",
        "    return text\n",
        "\n",
        "if __name__ == \"__main__\":\n",
        "    sentences = tokenize_sentences(sample_paragraph)\n",
        "    print(\"Sentences:\")\n",
        "    for idx, sentence in enumerate(sentences, 1):\n",
        "        print(f\"{idx}: {sentence}\")\n",
        "\n",
        "    print(\"\\n\")\n",
        "\n",
        "    words = tokenize_words(sample_paragraph)\n",
        "    print(\"Words:\")\n",
        "    print(words)\n",
        "\n",
        "    print(\"\\n\")\n",
        "\n",
        "    test_text = 'Hello, World! Welcome to NLP 101.'\n",
        "    cleaned_text = clean_text(test_text)\n",
        "    print(\"Cleaned Text:\")\n",
        "    print(cleaned_text)\n"
      ]
    },
    {
      "cell_type": "code",
      "source": [],
      "metadata": {
        "id": "6mLF4WarwdvJ"
      },
      "execution_count": null,
      "outputs": []
    }
  ]
}