{
  "nbformat": 4,
  "nbformat_minor": 0,
  "metadata": {
    "colab": {
      "provenance": [],
      "authorship_tag": "ABX9TyMJr5fYBSobC5O5Z76YuKzn",
      "include_colab_link": true
    },
    "kernelspec": {
      "name": "python3",
      "display_name": "Python 3"
    },
    "language_info": {
      "name": "python"
    }
  },
  "cells": [
    {
      "cell_type": "markdown",
      "metadata": {
        "id": "view-in-github",
        "colab_type": "text"
      },
      "source": [
        "<a href=\"https://colab.research.google.com/github/usha-1-bandi/nlp/blob/main/ass11.ipynb\" target=\"_parent\"><img src=\"https://colab.research.google.com/assets/colab-badge.svg\" alt=\"Open In Colab\"/></a>"
      ]
    },
    {
      "cell_type": "code",
      "source": [
        "!pip install nltk"
      ],
      "metadata": {
        "colab": {
          "base_uri": "https://localhost:8080/"
        },
        "id": "mAO5-KVmxllu",
        "outputId": "d726fd19-2782-42d2-c764-c8da1a5a5113"
      },
      "execution_count": 3,
      "outputs": [
        {
          "output_type": "stream",
          "name": "stdout",
          "text": [
            "Requirement already satisfied: nltk in /usr/local/lib/python3.11/dist-packages (3.9.1)\n",
            "Requirement already satisfied: click in /usr/local/lib/python3.11/dist-packages (from nltk) (8.1.8)\n",
            "Requirement already satisfied: joblib in /usr/local/lib/python3.11/dist-packages (from nltk) (1.4.2)\n",
            "Requirement already satisfied: regex>=2021.8.3 in /usr/local/lib/python3.11/dist-packages (from nltk) (2024.11.6)\n",
            "Requirement already satisfied: tqdm in /usr/local/lib/python3.11/dist-packages (from nltk) (4.67.1)\n"
          ]
        }
      ]
    },
    {
      "cell_type": "code",
      "source": [
        "import nltk\n",
        "from nltk.tokenize import word_tokenize, sent_tokenize\n",
        "import re\n",
        "import requests\n",
        "from bs4 import BeautifulSoup\n",
        "\n",
        "nltk.download('punkt')\n",
        "\n",
        "sample_paragraph = (\n",
        "    \"Natural Language Processing (NLP) is a fascinating field of Artificial Intelligence. \"\n",
        "    \"It focuses on the interaction between humans and computers using natural language. \"\n",
        "    \"Tokenization is one of the fundamental steps in NLP, where text is broken down into sentences or words.\"\n",
        ")\n",
        "\n",
        "def tokenize_sentences(paragraph):\n",
        "    return sent_tokenize(paragraph)\n",
        "\n",
        "def tokenize_words(paragraph):\n",
        "    return word_tokenize(paragraph)\n",
        "\n",
        "def clean_text(text):\n",
        "    \"\"\"Remove special characters and convert text to lowercase.\"\"\"\n",
        "    text = text.lower()\n",
        "    text = re.sub(r'[^a-zA-Z0-9\\s]', '', text)\n",
        "    return text\n",
        "\n",
        "def extract_emails(text):\n",
        "    \"\"\"Extract all email addresses from the given text.\"\"\"\n",
        "    email_pattern = r'[\\w\\.-]+@[\\w\\.-]+\\.\\w{2,}'\n",
        "    return re.findall(email_pattern, text)\n",
        "\n",
        "def fetch_webpage_title(url):\n",
        "    \"\"\"Fetch and print the title of the given webpage.\"\"\"\n",
        "    try:\n",
        "        response = requests.get(url)\n",
        "        response.raise_for_status()\n",
        "        soup = BeautifulSoup(response.text, 'html.parser')\n",
        "        return soup.title.string.strip()\n",
        "    except Exception as e:\n",
        "        return f\"Error fetching webpage title: {e}\"\n",
        "\n",
        "if __name__ == \"__main__\":\n",
        "    sentences = tokenize_sentences(sample_paragraph)\n",
        "    print(\"Sentences:\")\n",
        "    for idx, sentence in enumerate(sentences, 1):\n",
        "        print(f\"{idx}: {sentence}\")\n",
        "\n",
        "    print(\"\\n\")\n",
        "\n",
        "    words = tokenize_words(sample_paragraph)\n",
        "    print(\"Words:\")\n",
        "    print(words)\n",
        "\n",
        "    print(\"\\n\")\n",
        "\n",
        "    test_text = 'Hello, World! Welcome to NLP 101.'\n",
        "    cleaned_text = clean_text(test_text)\n",
        "    print(\"Cleaned Text:\")\n",
        "    print(cleaned_text)\n",
        "\n",
        "    print(\"\\n\")\n",
        "\n",
        "    email_text = 'Contact us at support@example.com and sales@example.org.'\n",
        "    emails = extract_emails(email_text)\n",
        "    print(\"Extracted Emails:\")\n",
        "    print(emails)\n",
        "\n",
        "    print(\"\\n\")\n",
        "\n",
        "    url = 'https://example.com'\n",
        "    webpage_title = fetch_webpage_title(url)\n",
        "    print(\"Webpage Title:\")\n",
        "    print(webpage_title)"
      ],
      "metadata": {
        "colab": {
          "base_uri": "https://localhost:8080/"
        },
        "id": "jKcodSq1xxd4",
        "outputId": "492a4513-44ff-470b-a754-065214b3a6be"
      },
      "execution_count": 4,
      "outputs": [
        {
          "output_type": "stream",
          "name": "stdout",
          "text": [
            "Sentences:\n",
            "1: Natural Language Processing (NLP) is a fascinating field of Artificial Intelligence.\n",
            "2: It focuses on the interaction between humans and computers using natural language.\n",
            "3: Tokenization is one of the fundamental steps in NLP, where text is broken down into sentences or words.\n",
            "\n",
            "\n",
            "Words:\n",
            "['Natural', 'Language', 'Processing', '(', 'NLP', ')', 'is', 'a', 'fascinating', 'field', 'of', 'Artificial', 'Intelligence', '.', 'It', 'focuses', 'on', 'the', 'interaction', 'between', 'humans', 'and', 'computers', 'using', 'natural', 'language', '.', 'Tokenization', 'is', 'one', 'of', 'the', 'fundamental', 'steps', 'in', 'NLP', ',', 'where', 'text', 'is', 'broken', 'down', 'into', 'sentences', 'or', 'words', '.']\n",
            "\n",
            "\n",
            "Cleaned Text:\n",
            "hello world welcome to nlp 101\n",
            "\n",
            "\n",
            "Extracted Emails:\n",
            "['support@example.com', 'sales@example.org']\n",
            "\n",
            "\n",
            "Webpage Title:\n",
            "Example Domain\n"
          ]
        },
        {
          "output_type": "stream",
          "name": "stderr",
          "text": [
            "[nltk_data] Downloading package punkt to /root/nltk_data...\n",
            "[nltk_data]   Package punkt is already up-to-date!\n"
          ]
        }
      ]
    }
  ]
}