{
  "nbformat": 4,
  "nbformat_minor": 0,
  "metadata": {
    "colab": {
      "provenance": [],
      "authorship_tag": "ABX9TyPCgsa5X0uULGacYJkME98F",
      "include_colab_link": true
    },
    "kernelspec": {
      "name": "python3",
      "display_name": "Python 3"
    },
    "language_info": {
      "name": "python"
    }
  },
  "cells": [
    {
      "cell_type": "markdown",
      "metadata": {
        "id": "view-in-github",
        "colab_type": "text"
      },
      "source": [
        "<a href=\"https://colab.research.google.com/github/usha-1-bandi/nlp/blob/main/ass1.ipynb\" target=\"_parent\"><img src=\"https://colab.research.google.com/assets/colab-badge.svg\" alt=\"Open In Colab\"/></a>"
      ]
    },
    {
      "cell_type": "code",
      "execution_count": 2,
      "metadata": {
        "colab": {
          "base_uri": "https://localhost:8080/"
        },
        "id": "-0wwH8g7ilW1",
        "outputId": "5b986f03-289a-4ea2-da4e-da514a125555"
      },
      "outputs": [
        {
          "output_type": "stream",
          "name": "stdout",
          "text": [
            "Integer Variable:\n",
            "Value: 10 | Type: <class 'int'>\n",
            "\n",
            "Float Variable:\n",
            "Value: 3.14 | Type: <class 'float'>\n",
            "\n",
            "String Variable:\n",
            "Value: Hello, Sahithi! | Type: <class 'str'>\n",
            "\n",
            "Boolean Variable:\n",
            "Value: True | Type: <class 'bool'>\n"
          ]
        }
      ],
      "source": [
        "#Write a program in Jupyter Notebook to declare variables of different data types (integer, float, string, and boolean). Print each variable and its type.\n",
        "\n",
        "integer_var = 10\n",
        "float_var = 3.14\n",
        "string_var = \"Hello, Sahithi!\"\n",
        "boolean_var = True\n",
        "\n",
        "print(\"Integer Variable:\")\n",
        "print(\"Value:\", integer_var, \"| Type:\", type(integer_var))\n",
        "\n",
        "print(\"\\nFloat Variable:\")\n",
        "print(\"Value:\", float_var, \"| Type:\", type(float_var))\n",
        "\n",
        "print(\"\\nString Variable:\")\n",
        "print(\"Value:\", string_var, \"| Type:\", type(string_var))\n",
        "\n",
        "print(\"\\nBoolean Variable:\")\n",
        "print(\"Value:\", boolean_var, \"| Type:\", type(boolean_var))\n"
      ]
    }
  ]
}